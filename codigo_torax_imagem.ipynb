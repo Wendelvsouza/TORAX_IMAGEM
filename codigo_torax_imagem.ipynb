{
 "cells": [
  {
   "cell_type": "markdown",
   "id": "e6be36bf-0a2a-46b6-963b-a106f6a8f36b",
   "metadata": {},
   "source": [
    "---"
   ]
  },
  {
   "cell_type": "markdown",
   "id": "c5f13136-5402-4c83-a0a1-83cc95c38d4a",
   "metadata": {},
   "source": [
    "# Imagem tórax"
   ]
  },
  {
   "cell_type": "markdown",
   "id": "419fb2cd-9cf8-438b-9128-ff096903ce0e",
   "metadata": {},
   "source": [
    "---"
   ]
  },
  {
   "cell_type": "markdown",
   "id": "fdbe4eed-2288-4682-87fb-aef925298074",
   "metadata": {},
   "source": [
    "Bibliotecas"
   ]
  },
  {
   "cell_type": "code",
   "execution_count": null,
   "id": "9f453465-2244-47c1-8193-3d6966b07e87",
   "metadata": {},
   "outputs": [],
   "source": [
    "from pathlib import Path\n",
    "import pandas as pd\n",
    "\n",
    "from range_key_dict import RangeKeyDict\n"
   ]
  },
  {
   "cell_type": "markdown",
   "id": "7ae24688-ca77-4fff-a027-9eaeede7902e",
   "metadata": {},
   "source": [
    "Caminho para o arquivo excel. "
   ]
  },
  {
   "cell_type": "code",
   "execution_count": null,
   "id": "83ab46b5-ed1c-4e46-9a92-d5bfe1fbd507",
   "metadata": {},
   "outputs": [],
   "source": [
    "#Coloque o diretorio onde o arquivo contagens.xlsx está contido.\n",
    "v = Path(r\"diretorio_aqui\")\n"
   ]
  },
  {
   "cell_type": "markdown",
   "id": "2924f2dc-3096-4619-80b0-9e8fd086459b",
   "metadata": {},
   "source": [
    "Lendo o arquivo xlsx."
   ]
  },
  {
   "cell_type": "code",
   "execution_count": null,
   "id": "88a95cc0-7ffc-4c5b-a749-c6cf2aa88904",
   "metadata": {},
   "outputs": [],
   "source": [
    "data = pd.read_excel(v,index_col=None, header=None)"
   ]
  },
  {
   "cell_type": "markdown",
   "id": "92c14788-4860-4c34-b2af-3638c019e04a",
   "metadata": {},
   "source": [
    "Decodificando o arquivo xlsx e interpretando como um mapa de calor."
   ]
  },
  {
   "cell_type": "code",
   "execution_count": 3,
   "id": "f741ce70-bfd3-42c5-8378-4715a5b063c5",
   "metadata": {},
   "outputs": [],
   "source": [
    "colors = RangeKeyDict({\n",
    "#azul    \n",
    "    (0, 101): \"#0200a0\",\n",
    "    (101, 131): \"#0200d7\",\n",
    "    (131, 176): \"#0001fc\",\n",
    "    (176,191 ): \"#0661f9\",\n",
    "    (191, 231): \"#0486ff\",\n",
    "    (231, 241): \"#00c0f8\",\n",
    "    (241, 261): \"#01f7fe\",\n",
    "    (261, 291): \"#31fdd0\",\n",
    "    (291, 301): \"#48ffb0\",\n",
    "# verde\n",
    "    (301, 326): \"#6eff8f\",\n",
    "    (326, 361): \"#adff4d\",\n",
    "# amarelo    \n",
    "    (361, 376): \"#eefe0f\",\n",
    "    (375, 386): \"#fffc03\",\n",
    "    (386, 396): \"#ffdf00\",\n",
    "    (396, 411): \"#ffcf02\",\n",
    "    (411, 426): \"#ffae03\",\n",
    "#laranja\n",
    "    (426, 440): \"#fc9100\",\n",
    "    (440, 447): \"#ff7f00\",\n",
    "#vermelho\n",
    "    (447, 461): \"#fe5900\",\n",
    "    (461, 471): \"#fe3e03\",\n",
    "    (471, 501): \"#fd1f00\",\n",
    "    (501, 511): \"#e40000\",\n",
    "    (511, 526): \"#cd0200\",\n",
    "    (526, 536): \"#c20000\",\n",
    "    (536, 551): \"#900000\",\n",
    "    (551, 600): \"#7b0106\",    \n",
    "});\n",
    " \n",
    "pulmao = data.style.applymap(lambda x: \"background-color: {}\".format(colors[x]))\n",
    "pulmao.to_excel(\"Torax.xlsx\")"
   ]
  }
 ],
 "metadata": {
  "kernelspec": {
   "display_name": "base",
   "language": "python",
   "name": "python3"
  },
  "language_info": {
   "codemirror_mode": {
    "name": "ipython",
    "version": 3
   },
   "file_extension": ".py",
   "mimetype": "text/x-python",
   "name": "python",
   "nbconvert_exporter": "python",
   "pygments_lexer": "ipython3",
   "version": "3.9.13"
  },
  "vscode": {
   "interpreter": {
    "hash": "afc2128a6fccf4e53b6f87cfa04dabc8a97303fcb8ab076ddbe34c0dfedd0bff"
   }
  },
  "widgets": {
   "application/vnd.jupyter.widget-state+json": {
    "state": {},
    "version_major": 2,
    "version_minor": 0
   }
  }
 },
 "nbformat": 4,
 "nbformat_minor": 5
}
